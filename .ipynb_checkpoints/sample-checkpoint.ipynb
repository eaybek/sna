{
 "cells": [
  {
   "cell_type": "markdown",
   "metadata": {},
   "source": [
    "# Search N Act\n",
    "\n",
    "a tool for text search and behave according to content\n",
    "a lang machine maybe \n",
    "\n",
    "use python `re` as RegEx \n",
    "\n",
    "general idea name textual signatures and call them like any other object\n"
   ]
  },
  {
   "cell_type": "markdown",
   "metadata": {},
   "source": [
    "hello, world!  \n",
    "Lorem ipsum dolor sit amet, consetetur sadipscing elitr, sed diam nonumy eirmod\n",
    "tempor invidunt ut labore et dolore magna aliquyam erat, sed diam voluptua. At\n",
    "vero eos et accusam et justo duo dolores et ea rebum. Stet clita kasd gubergren,\n",
    "no sea takimata sanctus est Lorem ipsum dolor sit amet."
   ]
  },
  {
   "cell_type": "markdown",
   "metadata": {},
   "source": [
    "## Define your Regexes"
   ]
  },
  {
   "cell_type": "code",
   "execution_count": 3,
   "metadata": {},
   "outputs": [],
   "source": [
    "from sna.search import Sna\n",
    "\n",
    "sna = Sna()\n",
    "\n",
    "\n",
    "@sna(\"(.*d.*r.*)\")\n",
    "class DR_word(object):\n",
    "    def __init__(self, match):\n",
    "        self.content = match.group(1)\n",
    "\n",
    "    def read(self):\n",
    "        print(self.content)\n",
    "\n",
    "\n",
    "@sna(\"(.*e.*t.*)\")\n",
    "class ET_word(object):\n",
    "    def __init__(self, match):\n",
    "        self.content = match.group(1)\n",
    "\n",
    "    def read(self):\n",
    "        print(self.content)\n"
   ]
  },
  {
   "cell_type": "markdown",
   "metadata": {},
   "source": [
    "The `read` is the method of both `ET_word` and `DR_word` so can be callable if we find patterns"
   ]
  },
  {
   "cell_type": "markdown",
   "metadata": {},
   "source": [
    "here is the query which reads sample.txt word by word and if find any object run its read function"
   ]
  },
  {
   "cell_type": "code",
   "execution_count": 4,
   "metadata": {},
   "outputs": [
    {
     "name": "stdout",
     "output_type": "stream",
     "text": [
      "dolor \n",
      "amet,\n",
      "consetetur \n",
      "elitr,\n",
      "et \n",
      "dolore \n",
      "erat,\n",
      "et \n",
      "et \n",
      "dolores \n",
      "et \n",
      "Stet \n",
      "est \n",
      "dolor \n",
      "amet.\n"
     ]
    }
   ],
   "source": [
    "sna.search().through.words().on(\n",
    "    filepath=\"sample.txt\"\n",
    ").read()"
   ]
  },
  {
   "cell_type": "markdown",
   "metadata": {},
   "source": [
    "below there is more specific one this query returns only ET_word objects which we asked for. Object names can be send as argument to search method"
   ]
  },
  {
   "cell_type": "code",
   "execution_count": 5,
   "metadata": {},
   "outputs": [
    {
     "name": "stdout",
     "output_type": "stream",
     "text": [
      "amet,\n",
      "consetetur \n",
      "elitr,\n",
      "et \n",
      "erat,\n",
      "et \n",
      "et \n",
      "et \n",
      "Stet \n",
      "est \n",
      "amet.\n"
     ]
    }
   ],
   "source": [
    "sna.search(\"ET_word\").through.words().on(\n",
    "    filepath=\"sample.txt\"\n",
    ").read()"
   ]
  },
  {
   "cell_type": "code",
   "execution_count": 6,
   "metadata": {},
   "outputs": [
    {
     "name": "stdout",
     "output_type": "stream",
     "text": [
      "dolor \n",
      "dolore \n",
      "dolores \n",
      "dolor \n"
     ]
    }
   ],
   "source": [
    "sna.search(\"DR_word\").through.words().on(\n",
    "    filepath=\"sample.txt\"\n",
    ").read()"
   ]
  },
  {
   "cell_type": "code",
   "execution_count": 7,
   "metadata": {},
   "outputs": [
    {
     "name": "stdout",
     "output_type": "stream",
     "text": [
      "dolor \n",
      "amet,\n",
      "consetetur \n",
      "elitr,\n",
      "et \n",
      "dolore \n",
      "erat,\n",
      "et \n",
      "et \n",
      "dolores \n",
      "et \n",
      "Stet \n",
      "est \n",
      "dolor \n",
      "amet.\n"
     ]
    }
   ],
   "source": [
    "sna.search(\"ET_word\", \"DR_word\").through.words().on(\n",
    "    filepath=\"sample.txt\"\n",
    ").read()"
   ]
  },
  {
   "cell_type": "code",
   "execution_count": null,
   "metadata": {},
   "outputs": [],
   "source": []
  }
 ],
 "metadata": {
  "kernelspec": {
   "display_name": "Python 3",
   "language": "python",
   "name": "python3"
  },
  "language_info": {
   "codemirror_mode": {
    "name": "ipython",
    "version": 3
   },
   "file_extension": ".py",
   "mimetype": "text/x-python",
   "name": "python",
   "nbconvert_exporter": "python",
   "pygments_lexer": "ipython3",
   "version": "3.7.3"
  }
 },
 "nbformat": 4,
 "nbformat_minor": 2
}
