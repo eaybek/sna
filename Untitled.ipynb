{
 "cells": [
  {
   "cell_type": "code",
   "execution_count": 2,
   "metadata": {},
   "outputs": [],
   "source": [
    "from sna.search import Sna"
   ]
  },
  {
   "cell_type": "code",
   "execution_count": 3,
   "metadata": {},
   "outputs": [],
   "source": []
  },
  {
   "cell_type": "code",
   "execution_count": 4,
   "metadata": {},
   "outputs": [
    {
     "name": "stdout",
     "output_type": "stream",
     "text": [
      "dolor \n",
      "amet,\n",
      "consetetur \n",
      "elitr,\n",
      "et \n",
      "dolore \n",
      "erat,\n",
      "et \n",
      "et \n",
      "dolores \n",
      "et \n",
      "Stet \n",
      "est \n",
      "dolor \n",
      "amet.\n",
      "--------------------------------------------------------------------------------\n",
      "amet,\n",
      "consetetur \n",
      "elitr,\n",
      "et \n",
      "erat,\n",
      "et \n",
      "et \n",
      "et \n",
      "Stet \n",
      "est \n",
      "amet.\n"
     ]
    }
   ],
   "source": [
    "from sna.search import Sna\n",
    "\n",
    "sna = Sna()\n",
    "\n",
    "\n",
    "@sna(\"(.*d.*r.*)\")\n",
    "class DR_word(object):\n",
    "    def __init__(self, match):\n",
    "        self.content = match.group(1)\n",
    "\n",
    "    def read(self):\n",
    "        print(self.content)\n",
    "\n",
    "\n",
    "@sna(\"(.*e.*t.*)\")\n",
    "class ET_word(object):\n",
    "    def __init__(self, match):\n",
    "        self.content = match.group(1)\n",
    "\n",
    "    def read(self):\n",
    "        print(self.content)\n",
    "\n",
    "\n",
    "# find all patterns\n",
    "sna.search().through.words().on(\n",
    "    filepath=\"sample.txt\"\n",
    ").read()\n",
    "\n",
    "print(80 * \"-\")\n",
    "# Or be specific\n",
    "sna.search(\"ET_word\").through.words().on(\n",
    "    filepath=\"sample.txt\"\n",
    ").read()\n"
   ]
  },
  {
   "cell_type": "code",
   "execution_count": null,
   "metadata": {},
   "outputs": [],
   "source": []
  }
 ],
 "metadata": {
  "kernelspec": {
   "display_name": "Python 3",
   "language": "python",
   "name": "python3"
  },
  "language_info": {
   "codemirror_mode": {
    "name": "ipython",
    "version": 3
   },
   "file_extension": ".py",
   "mimetype": "text/x-python",
   "name": "python",
   "nbconvert_exporter": "python",
   "pygments_lexer": "ipython3",
   "version": "3.7.3"
  }
 },
 "nbformat": 4,
 "nbformat_minor": 2
}
